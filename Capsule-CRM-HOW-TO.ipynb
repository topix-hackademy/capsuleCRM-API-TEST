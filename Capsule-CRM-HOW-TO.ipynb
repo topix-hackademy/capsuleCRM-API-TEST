{
 "cells": [
  {
   "cell_type": "markdown",
   "metadata": {},
   "source": [
    "# Capsule CRM - API Test\n",
    "\n",
    "## Requirements\n",
    "\n",
    "First of all I strongly suggest you to create a **virtual environment**:\n",
    "\n",
    "    virtualenv env\n",
    "    source env/bin/activate\n",
    "\n",
    "Install the requirements (Be aware to have the virtualenv activated):\n",
    "    \n",
    "    pip install -r requirements\n",
    "    \n",
    "To have authenticated access to the API you need to create a custom TOKEN. Of course the production TOKEN must be secret!\n",
    "You can create a personal TOKEN in your **Preferences** under the voice **API Authentication Tokens**.\n",
    "\n",
    "You need to copy the file **secret.example** with a new name **secret**. Change inside this file the voice **TOKEN** with your token."
   ]
  },
  {
   "cell_type": "markdown",
   "metadata": {},
   "source": [
    "## Attention\n",
    "\n",
    "We can perform only **4,000 requests per hour**. Inside the Header we'll receive an update on the Limit:\n",
    "\n",
    "    HTTP/1.1 200 OK\n",
    "    X-RateLimit-Limit: 4000\n",
    "    X-RateLimit-Remaining: 56\n",
    "    X-RateLimit-Reset: 1434037662"
   ]
  },
  {
   "cell_type": "markdown",
   "metadata": {},
   "source": [
    "If we reach the limiti we'll receive something like:\n",
    "\n",
    "    HTTP/1.1 429 Too Many Requests\n",
    "    X-RateLimit-Limit: 4000\n",
    "    X-RateLimit-Remaining: 0\n",
    "    X-RateLimit-Reset: 1434037662\n",
    "    \n",
    "With a Body Response:\n",
    "\n",
    "    { \"error\":\"rate limit reached\" }"
   ]
  },
  {
   "cell_type": "markdown",
   "metadata": {},
   "source": [
    "## TOKEN Setup"
   ]
  },
  {
   "cell_type": "code",
   "execution_count": null,
   "metadata": {
    "collapsed": true
   },
   "outputs": [],
   "source": [
    "from configparser import ConfigParser\n",
    "import os, requests"
   ]
  },
  {
   "cell_type": "code",
   "execution_count": null,
   "metadata": {},
   "outputs": [],
   "source": [
    "parser = ConfigParser()\n",
    "parser.read(os.path.expanduser('./secret'))\n",
    "token = parser.get('AUTH', 'token')"
   ]
  },
  {
   "cell_type": "code",
   "execution_count": null,
   "metadata": {},
   "outputs": [],
   "source": [
    "headers = {'Authorization': 'Bearer {}'.format(token)}\n",
    "print headers"
   ]
  },
  {
   "cell_type": "markdown",
   "metadata": {},
   "source": [
    "If we don't set properly the authorization header we'll receive something like:\n",
    "\n"
   ]
  },
  {
   "cell_type": "markdown",
   "metadata": {},
   "source": [
    "## HTTP Method\n",
    "\n",
    "Call the Wrapper method **perform_get** if you need to perform **GET** calls, so you don't need to set the authorization headers manually each time."
   ]
  },
  {
   "cell_type": "code",
   "execution_count": null,
   "metadata": {
    "collapsed": true
   },
   "outputs": [],
   "source": [
    "def perform_get(url):\n",
    "    \"\"\"\n",
    "    Perform HTTP Get with Authorization Headers\n",
    "    :url: Specify the destination URL\n",
    "    :return: Requests Response Object\n",
    "    \"\"\"\n",
    "    return requests.get(url=url, headers=headers)"
   ]
  },
  {
   "cell_type": "markdown",
   "metadata": {},
   "source": [
    "# GET ALL PARTIES\n",
    "\n",
    "API used to retrieve all the parties. I suggest to use the paginated API using the parameters:\n",
    "\n",
    "    page: Number of the Page\n",
    "    perPage: Number of Item per Page\n",
    "    \n",
    "Inside the Header will be returned the Link of the Next / Previous Page in the Key **Link**:\n",
    "\n",
    "    <https://api.capsulecrm.com/api/v2/parties?page=2&perPage=10>; rel=\"next\"\n",
    "\n",
    "or\n",
    "\n",
    "    <https://api.capsulecrm.com/api/v2/parties?page=1&perPage=10>; rel=\"prev\""
   ]
  },
  {
   "cell_type": "code",
   "execution_count": null,
   "metadata": {},
   "outputs": [],
   "source": [
    "parties_url = 'https://api.capsulecrm.com/api/v2/parties'\n",
    "parties_url_paginated = 'https://api.capsulecrm.com/api/v2/parties?page=2&perPage=10'"
   ]
  },
  {
   "cell_type": "code",
   "execution_count": null,
   "metadata": {},
   "outputs": [],
   "source": [
    "resp = perform_get(parties_url)\n",
    "parties = resp.json()\n",
    "print parties.keys()\n",
    "print len(parties['parties'])"
   ]
  },
  {
   "cell_type": "code",
   "execution_count": null,
   "metadata": {},
   "outputs": [],
   "source": [
    "resp = perform_get(parties_url_paginated)"
   ]
  },
  {
   "cell_type": "code",
   "execution_count": null,
   "metadata": {},
   "outputs": [],
   "source": [
    "print resp"
   ]
  },
  {
   "cell_type": "code",
   "execution_count": null,
   "metadata": {},
   "outputs": [],
   "source": [
    "parties = resp.json()"
   ]
  },
  {
   "cell_type": "code",
   "execution_count": null,
   "metadata": {},
   "outputs": [],
   "source": [
    "print parties.keys()\n",
    "print len(parties['parties'])"
   ]
  },
  {
   "cell_type": "code",
   "execution_count": null,
   "metadata": {},
   "outputs": [],
   "source": [
    "print resp.headers\n",
    "print \"\\n--\\n\\nLink to next/prev Page:\"\n",
    "print resp.headers['Link']\n"
   ]
  },
  {
   "cell_type": "markdown",
   "metadata": {},
   "source": [
    "# SEARCH PARTIES\n",
    "\n",
    "Open Search API. We can search by **EMAIL**, if we have some results means that we have an user with that email."
   ]
  },
  {
   "cell_type": "code",
   "execution_count": 141,
   "metadata": {
    "collapsed": true
   },
   "outputs": [],
   "source": [
    "SEARCH_STRING = 'dario.marmo@agenzialama.eu'"
   ]
  },
  {
   "cell_type": "code",
   "execution_count": 142,
   "metadata": {
    "collapsed": true
   },
   "outputs": [],
   "source": [
    "search_url = 'https://api.capsulecrm.com/api/v2/parties/search?q=%s' % SEARCH_STRING"
   ]
  },
  {
   "cell_type": "code",
   "execution_count": 143,
   "metadata": {},
   "outputs": [],
   "source": [
    "resp = perform_get(search_url)"
   ]
  },
  {
   "cell_type": "code",
   "execution_count": 144,
   "metadata": {},
   "outputs": [
    {
     "name": "stdout",
     "output_type": "stream",
     "text": [
      "<Response [200]>\n"
     ]
    }
   ],
   "source": [
    "print resp"
   ]
  },
  {
   "cell_type": "code",
   "execution_count": 145,
   "metadata": {},
   "outputs": [
    {
     "data": {
      "text/plain": [
       "{u'parties': [{u'about': None,\n",
       "   u'addresses': [],\n",
       "   u'createdAt': u'2017-03-13T15:04:51Z',\n",
       "   u'emailAddresses': [{u'address': u'dario.marmo@agenzialama.eu',\n",
       "     u'id': 275691439,\n",
       "     u'type': None}],\n",
       "   u'firstName': u'Dario',\n",
       "   u'id': 135377966,\n",
       "   u'jobTitle': None,\n",
       "   u'lastContactedAt': None,\n",
       "   u'lastName': u'Marmo',\n",
       "   u'organisation': None,\n",
       "   u'phoneNumbers': [],\n",
       "   u'pictureURL': u'https://facehub.appspot.com/twitter/dariomarmo_lama?size=100',\n",
       "   u'title': None,\n",
       "   u'type': u'person',\n",
       "   u'updatedAt': u'2017-03-15T08:22:21Z',\n",
       "   u'websites': [{u'address': u'dariomarmo_lama',\n",
       "     u'id': 276065674,\n",
       "     u'service': u'TWITTER',\n",
       "     u'type': None,\n",
       "     u'url': u'http://twitter.com/dariomarmo_lama'}]}]}"
      ]
     },
     "execution_count": 145,
     "metadata": {},
     "output_type": "execute_result"
    }
   ],
   "source": [
    "resp.json()"
   ]
  },
  {
   "cell_type": "code",
   "execution_count": null,
   "metadata": {},
   "outputs": [],
   "source": [
    "parties = resp.json()\n",
    "print parties['parties']"
   ]
  },
  {
   "cell_type": "code",
   "execution_count": null,
   "metadata": {
    "collapsed": true
   },
   "outputs": [],
   "source": []
  }
 ],
 "metadata": {
  "kernelspec": {
   "display_name": "Python 2",
   "language": "python",
   "name": "python2"
  },
  "language_info": {
   "codemirror_mode": {
    "name": "ipython",
    "version": 2
   },
   "file_extension": ".py",
   "mimetype": "text/x-python",
   "name": "python",
   "nbconvert_exporter": "python",
   "pygments_lexer": "ipython2",
   "version": "2.7.13"
  }
 },
 "nbformat": 4,
 "nbformat_minor": 2
}
