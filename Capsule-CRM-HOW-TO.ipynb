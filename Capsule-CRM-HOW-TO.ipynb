{
 "cells": [
  {
   "cell_type": "markdown",
   "metadata": {},
   "source": [
    "# Capsule CRM - API Test\n",
    "\n",
    "## Requirements\n",
    "\n",
    "First of all I strongly suggest you to create a **virtual environment**:\n",
    "\n",
    "    virtualenv env\n",
    "    source env/bin/activate\n",
    "\n",
    "Install the requirements (Be aware to have the virtualenv activated):\n",
    "    \n",
    "    pip install -r requirements\n",
    "    \n",
    "To have authenticated access to the API you need to create a custom TOKEN. Of course the production TOKEN must be secret!\n",
    "You can create a personal TOKEN in your **Preferences** under the voice **API Authentication Tokens**.\n",
    "\n",
    "You need to copy the file **secret.example** with a new name **secret**. Change inside this file the voice **TOKEN** with your token."
   ]
  },
  {
   "cell_type": "markdown",
   "metadata": {},
   "source": [
    "## Attention\n",
    "\n",
    "We can perform only **4,000 requests per hour**. Inside the Header we'll receive an update on the Limit:\n",
    "\n",
    "    HTTP/1.1 200 OK\n",
    "    X-RateLimit-Limit: 4000\n",
    "    X-RateLimit-Remaining: 56\n",
    "    X-RateLimit-Reset: 1434037662"
   ]
  },
  {
   "cell_type": "markdown",
   "metadata": {},
   "source": [
    "If we reach the limiti we'll receive something like:\n",
    "\n",
    "    HTTP/1.1 429 Too Many Requests\n",
    "    X-RateLimit-Limit: 4000\n",
    "    X-RateLimit-Remaining: 0\n",
    "    X-RateLimit-Reset: 1434037662\n",
    "    \n",
    "With a Body Response:\n",
    "\n",
    "    { \"error\":\"rate limit reached\" }"
   ]
  },
  {
   "cell_type": "markdown",
   "metadata": {},
   "source": [
    "## TOKEN Setup"
   ]
  },
  {
   "cell_type": "code",
   "execution_count": null,
   "metadata": {
    "collapsed": true
   },
   "outputs": [],
   "source": [
    "from configparser import ConfigParser\n",
    "import os, requests"
   ]
  },
  {
   "cell_type": "code",
   "execution_count": null,
   "metadata": {},
   "outputs": [],
   "source": [
    "parser = ConfigParser()\n",
    "parser.read(os.path.expanduser('./secret'))\n",
    "token = parser.get('AUTH', 'token')"
   ]
  },
  {
   "cell_type": "code",
   "execution_count": null,
   "metadata": {},
   "outputs": [],
   "source": [
    "headers = {\n",
    "    'Authorization': 'Bearer {}'.format(token),\n",
    "    'Content-Type': 'application/json',\n",
    "    'Accept': 'application/json'\n",
    "    }\n",
    "print headers"
   ]
  },
  {
   "cell_type": "markdown",
   "metadata": {},
   "source": [
    "If we don't set properly the authorization header we'll receive something like:\n",
    "\n",
    "    HTTP/1.1 401 Unauthorized\n",
    "    WWW-Authenticate: Bearer realm=\"capsule\", error=\"invalid_token\"\n",
    "    {\n",
    "      \"message\": \"Requires authentication\"\n",
    "    }"
   ]
  },
  {
   "cell_type": "markdown",
   "metadata": {},
   "source": [
    "## HTTP Method\n",
    "\n",
    "Call the Wrapper method **perform_get** if you need to perform **GET** calls, so you don't need to set the authorization headers manually each time."
   ]
  },
  {
   "cell_type": "code",
   "execution_count": null,
   "metadata": {
    "collapsed": true
   },
   "outputs": [],
   "source": [
    "def perform_get(url):\n",
    "    \"\"\"\n",
    "    Perform HTTP GET with Authorization Headers\n",
    "    :url: Specify the destination URL\n",
    "    :return: Requests Response Object\n",
    "    \"\"\"\n",
    "    return requests.get(url=url, headers=headers)"
   ]
  },
  {
   "cell_type": "markdown",
   "metadata": {},
   "source": [
    "Call the Wrapper method **perform_POST** if you need to perform **POST** calls, so you don't need to set the authorization headers manually each time. You need to pass the body of the request."
   ]
  },
  {
   "cell_type": "code",
   "execution_count": null,
   "metadata": {
    "collapsed": true
   },
   "outputs": [],
   "source": [
    "def perform_post(url, data=None):\n",
    "    \"\"\"\n",
    "    Perform HTTP POST with Authorization Headers\n",
    "    :url: Specify the destination URL\n",
    "    :data: Content Body\n",
    "    :return: Requests Response Object\n",
    "    \"\"\"\n",
    "    return requests.post(url=url, data=data, headers=headers)"
   ]
  },
  {
   "cell_type": "markdown",
   "metadata": {},
   "source": [
    "Call the Wrapper method **perform_PUT** if you need to perform **PUT** calls, so you don't need to set the authorization headers manually each time. You need to pass the body of the request."
   ]
  },
  {
   "cell_type": "code",
   "execution_count": null,
   "metadata": {
    "collapsed": true
   },
   "outputs": [],
   "source": [
    "def perform_put(url, data=None):\n",
    "    \"\"\"\n",
    "    Perform HTTP PUT with Authorization Headers\n",
    "    :url: Specify the destination URL\n",
    "    :data: Content Body\n",
    "    :return: Requests Response Object\n",
    "    \"\"\"\n",
    "    return requests.put(url=url, data=data, headers=headers)"
   ]
  },
  {
   "cell_type": "markdown",
   "metadata": {},
   "source": [
    "Call the Wrapper method **perform_delete** if you need to perform **DELETE** calls, so you don't need to set the authorization headers manually each time."
   ]
  },
  {
   "cell_type": "code",
   "execution_count": null,
   "metadata": {
    "collapsed": true
   },
   "outputs": [],
   "source": [
    "def perform_delete(url):\n",
    "    \"\"\"\n",
    "    Perform HTTP DEL with Authorization Headers\n",
    "    :url: Specify the destination URL\n",
    "    :return: Requests Response Object\n",
    "    \"\"\"\n",
    "    return requests.delete(url=url, headers=headers)"
   ]
  },
  {
   "cell_type": "markdown",
   "metadata": {},
   "source": [
    "# GET ALL PARTIES\n",
    "\n",
    "API used to retrieve all the parties. I suggest to use the paginated API using the parameters:\n",
    "\n",
    "    page: Number of the Page\n",
    "    perPage: Number of Item per Page\n",
    "    \n",
    "Inside the Header will be returned the Link of the Next / Previous Page in the Key **Link**:\n",
    "\n",
    "    <https://api.capsulecrm.com/api/v2/parties?page=2&perPage=10>; rel=\"next\"\n",
    "\n",
    "or\n",
    "\n",
    "    <https://api.capsulecrm.com/api/v2/parties?page=1&perPage=10>; rel=\"prev\""
   ]
  },
  {
   "cell_type": "code",
   "execution_count": null,
   "metadata": {},
   "outputs": [],
   "source": [
    "parties_url = 'https://api.capsulecrm.com/api/v2/parties'\n",
    "parties_url_paginated = 'https://api.capsulecrm.com/api/v2/parties?page=2&perPage=10'"
   ]
  },
  {
   "cell_type": "code",
   "execution_count": null,
   "metadata": {},
   "outputs": [],
   "source": [
    "resp = perform_get(parties_url)\n",
    "parties = resp.json()\n",
    "print parties.keys()\n",
    "print len(parties['parties'])"
   ]
  },
  {
   "cell_type": "code",
   "execution_count": null,
   "metadata": {},
   "outputs": [],
   "source": [
    "resp = perform_get(parties_url_paginated)"
   ]
  },
  {
   "cell_type": "code",
   "execution_count": null,
   "metadata": {},
   "outputs": [],
   "source": [
    "print resp"
   ]
  },
  {
   "cell_type": "code",
   "execution_count": null,
   "metadata": {},
   "outputs": [],
   "source": [
    "parties = resp.json()"
   ]
  },
  {
   "cell_type": "code",
   "execution_count": null,
   "metadata": {},
   "outputs": [],
   "source": [
    "print parties.keys()\n",
    "print len(parties['parties'])"
   ]
  },
  {
   "cell_type": "code",
   "execution_count": null,
   "metadata": {},
   "outputs": [],
   "source": [
    "print resp.headers\n",
    "print \"\\n--\\n\\nLink to next/prev Page:\"\n",
    "print resp.headers['Link']\n"
   ]
  },
  {
   "cell_type": "markdown",
   "metadata": {},
   "source": [
    "# SEARCH PARTIES\n",
    "\n",
    "Open Search API. We can search by **EMAIL**, if we have some results means that we have an user with that email."
   ]
  },
  {
   "cell_type": "code",
   "execution_count": null,
   "metadata": {
    "collapsed": true
   },
   "outputs": [],
   "source": [
    "SEARCH_STRING = 'MAIL-HERE'"
   ]
  },
  {
   "cell_type": "code",
   "execution_count": null,
   "metadata": {
    "collapsed": true
   },
   "outputs": [],
   "source": [
    "search_url = 'https://api.capsulecrm.com/api/v2/parties/search?q=%s' % SEARCH_STRING"
   ]
  },
  {
   "cell_type": "code",
   "execution_count": null,
   "metadata": {},
   "outputs": [],
   "source": [
    "resp = perform_get(search_url)"
   ]
  },
  {
   "cell_type": "code",
   "execution_count": null,
   "metadata": {},
   "outputs": [],
   "source": [
    "print resp"
   ]
  },
  {
   "cell_type": "code",
   "execution_count": null,
   "metadata": {},
   "outputs": [],
   "source": [
    "resp.json()"
   ]
  },
  {
   "cell_type": "code",
   "execution_count": null,
   "metadata": {},
   "outputs": [],
   "source": [
    "parties = resp.json()\n",
    "print parties['parties']"
   ]
  },
  {
   "cell_type": "markdown",
   "metadata": {},
   "source": [
    "# Add New Party\n",
    "\n",
    "Create new reference"
   ]
  },
  {
   "cell_type": "code",
   "execution_count": null,
   "metadata": {},
   "outputs": [],
   "source": [
    "create_url = 'https://api.capsulecrm.com/api/v2/parties'"
   ]
  },
  {
   "cell_type": "code",
   "execution_count": null,
   "metadata": {},
   "outputs": [],
   "source": [
    "data = {'party': {\n",
    "            'about': 'Hello my name is Alex, i\\'m just testing the API',\n",
    "            'emailAddresses': [{'address': 'random@email.com'}],\n",
    "            'type': 'person',\n",
    "            'firstName': 'Alex',\n",
    "            'lastName': 'Comu'\n",
    "            }\n",
    "       }\n",
    "import json\n",
    "data = json.dumps(data)\n",
    "print data"
   ]
  },
  {
   "cell_type": "code",
   "execution_count": null,
   "metadata": {
    "collapsed": true
   },
   "outputs": [],
   "source": [
    "resp = perform_post(create_url, data)"
   ]
  },
  {
   "cell_type": "code",
   "execution_count": null,
   "metadata": {},
   "outputs": [],
   "source": [
    "resp"
   ]
  },
  {
   "cell_type": "code",
   "execution_count": null,
   "metadata": {},
   "outputs": [],
   "source": [
    "print resp.json()"
   ]
  },
  {
   "cell_type": "code",
   "execution_count": null,
   "metadata": {},
   "outputs": [],
   "source": [
    "resp.headers"
   ]
  },
  {
   "cell_type": "code",
   "execution_count": null,
   "metadata": {},
   "outputs": [],
   "source": [
    "user = resp.json()['party']\n",
    "print user\n"
   ]
  },
  {
   "cell_type": "markdown",
   "metadata": {},
   "source": [
    "# Update Party\n",
    "\n",
    "Update reference given a specific ID."
   ]
  },
  {
   "cell_type": "code",
   "execution_count": null,
   "metadata": {},
   "outputs": [],
   "source": [
    "update_url = 'https://api.capsulecrm.com/api/v2/parties/{}'.format(user.get('id'))\n",
    "print update_url"
   ]
  },
  {
   "cell_type": "code",
   "execution_count": null,
   "metadata": {},
   "outputs": [],
   "source": [
    "data = {'party': {\n",
    "            'type': 'person',\n",
    "            'firstName': 'Alex',\n",
    "            'lastName': 'Comunian'\n",
    "            }\n",
    "       }\n",
    "import json\n",
    "data = json.dumps(data)\n",
    "print data"
   ]
  },
  {
   "cell_type": "code",
   "execution_count": null,
   "metadata": {
    "collapsed": true
   },
   "outputs": [],
   "source": [
    "resp = perform_put(update_url, data)"
   ]
  },
  {
   "cell_type": "code",
   "execution_count": null,
   "metadata": {},
   "outputs": [],
   "source": [
    "print resp"
   ]
  },
  {
   "cell_type": "code",
   "execution_count": null,
   "metadata": {},
   "outputs": [],
   "source": [
    "resp.json()"
   ]
  },
  {
   "cell_type": "markdown",
   "metadata": {},
   "source": [
    "## PUT for not-existing resource"
   ]
  },
  {
   "cell_type": "code",
   "execution_count": null,
   "metadata": {},
   "outputs": [],
   "source": [
    "update_url = 'https://api.capsulecrm.com/api/v2/parties/ashjdgajsdhjkasd'\n"
   ]
  },
  {
   "cell_type": "code",
   "execution_count": null,
   "metadata": {
    "collapsed": true
   },
   "outputs": [],
   "source": [
    "resp = perform_put(update_url, data)"
   ]
  },
  {
   "cell_type": "code",
   "execution_count": null,
   "metadata": {},
   "outputs": [],
   "source": [
    "resp"
   ]
  },
  {
   "cell_type": "code",
   "execution_count": null,
   "metadata": {},
   "outputs": [],
   "source": [
    "resp.json()"
   ]
  },
  {
   "cell_type": "markdown",
   "metadata": {},
   "source": [
    "# Delete Party"
   ]
  },
  {
   "cell_type": "code",
   "execution_count": null,
   "metadata": {},
   "outputs": [],
   "source": [
    "delete_url = 'https://api.capsulecrm.com/api/v2/parties/{}'.format(user.get('id'))\n",
    "print delete_url"
   ]
  },
  {
   "cell_type": "code",
   "execution_count": null,
   "metadata": {
    "collapsed": true
   },
   "outputs": [],
   "source": [
    "resp = perform_delete(delete_url)"
   ]
  },
  {
   "cell_type": "code",
   "execution_count": null,
   "metadata": {},
   "outputs": [],
   "source": [
    "print resp"
   ]
  },
  {
   "cell_type": "code",
   "execution_count": null,
   "metadata": {},
   "outputs": [],
   "source": [
    "# if status is OK -> No Response\n",
    "print resp.status_code"
   ]
  },
  {
   "cell_type": "markdown",
   "metadata": {},
   "source": [
    "# Delete not existing Party"
   ]
  },
  {
   "cell_type": "code",
   "execution_count": null,
   "metadata": {},
   "outputs": [],
   "source": [
    "delete_url = 'https://api.capsulecrm.com/api/v2/parties/asdasdasdasduastdguashjdbaksda'\n",
    "print delete_url"
   ]
  },
  {
   "cell_type": "code",
   "execution_count": null,
   "metadata": {
    "collapsed": true
   },
   "outputs": [],
   "source": [
    "resp = perform_delete(delete_url)"
   ]
  },
  {
   "cell_type": "code",
   "execution_count": null,
   "metadata": {},
   "outputs": [],
   "source": [
    "print resp"
   ]
  },
  {
   "cell_type": "code",
   "execution_count": null,
   "metadata": {},
   "outputs": [],
   "source": [
    "resp.json()"
   ]
  },
  {
   "cell_type": "code",
   "execution_count": null,
   "metadata": {
    "collapsed": true
   },
   "outputs": [],
   "source": []
  }
 ],
 "metadata": {
  "kernelspec": {
   "display_name": "Python 2",
   "language": "python",
   "name": "python2"
  },
  "language_info": {
   "codemirror_mode": {
    "name": "ipython",
    "version": 2
   },
   "file_extension": ".py",
   "mimetype": "text/x-python",
   "name": "python",
   "nbconvert_exporter": "python",
   "pygments_lexer": "ipython2",
   "version": "2.7.13"
  }
 },
 "nbformat": 4,
 "nbformat_minor": 2
}
